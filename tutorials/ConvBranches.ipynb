{
 "cells": [
  {
   "cell_type": "markdown",
   "metadata": {},
   "source": [
    "### ConvBranches"
   ]
  },
  {
   "cell_type": "markdown",
   "metadata": {},
   "source": [
    "First of all import library:"
   ]
  },
  {
   "cell_type": "code",
   "execution_count": 1,
   "metadata": {},
   "outputs": [],
   "source": [
    "import torch\n",
    "from convblock import ConvBlock, ConvBranches, Config"
   ]
  },
  {
   "cell_type": "markdown",
   "metadata": {},
   "source": [
    "In essence, **ConvBranches** is just several **ConvBlock** modules stacked in parallel branches, that are concatenated, summed or multiplied in the end.\n",
    "The same concepts of parameters vectorization that were explained in tutorial on **ConvBlock** can be applied to **ConvBranches** module. As example we will can create **ASPP** module used by **DeepLab** architecture:"
   ]
  },
  {
   "cell_type": "code",
   "execution_count": 25,
   "metadata": {},
   "outputs": [
    {
     "data": {
      "text/plain": [
       "ConvBranches(\n",
       "  (branches): ModuleDict(\n",
       "    (branch0): ConvBlock(\n",
       "      (Module_0): AdaptiveAvgPool(input_shape=[32 32 32], output_shape=[32  1  1])\n",
       "      (Module_1): Conv(32, 16, kernel_size=(1, 1), stride=(1, 1), bias=False)\n",
       "      (Module_2): BatchNorm2d(16, eps=1e-05, momentum=0.1, affine=True, track_running_stats=True)\n",
       "      (Module_3): ReLU(inplace=True)\n",
       "      (Module_4): Upsample(input_shape=(16, 1, 1), output_shape=(16, 32, 32), mode='bilinear')\n",
       "    )\n",
       "    (branch1): ConvBlock(\n",
       "      (Module_0): Conv(32, 16, kernel_size=(3, 3), stride=(1, 1), padding=(1, 1, 1, 1), padding_mode=constant, bias=False)\n",
       "      (Module_1): BatchNorm2d(16, eps=1e-05, momentum=0.1, affine=True, track_running_stats=True)\n",
       "      (Module_2): ReLU(inplace=True)\n",
       "    )\n",
       "    (branch2): ConvBlock(\n",
       "      (Module_0): Conv(32, 16, kernel_size=(3, 3), stride=(1, 1), padding=(3, 3, 3, 3), padding_mode=constant, dilation=(3, 3), bias=False)\n",
       "      (Module_1): BatchNorm2d(16, eps=1e-05, momentum=0.1, affine=True, track_running_stats=True)\n",
       "      (Module_2): ReLU(inplace=True)\n",
       "    )\n",
       "    (branch3): ConvBlock(\n",
       "      (Module_0): Conv(32, 16, kernel_size=(3, 3), stride=(1, 1), padding=(5, 5, 5, 5), padding_mode=constant, dilation=(5, 5), bias=False)\n",
       "      (Module_1): BatchNorm2d(16, eps=1e-05, momentum=0.1, affine=True, track_running_stats=True)\n",
       "      (Module_2): ReLU(inplace=True)\n",
       "    )\n",
       "    (branch4): ConvBlock(\n",
       "      (Module_0): Conv(32, 16, kernel_size=(3, 3), stride=(1, 1), padding=(12, 12, 12, 12), padding_mode=constant, dilation=(12, 12), bias=False)\n",
       "      (Module_1): BatchNorm2d(16, eps=1e-05, momentum=0.1, affine=True, track_running_stats=True)\n",
       "      (Module_2): ReLU(inplace=True)\n",
       "    )\n",
       "  )\n",
       ")"
      ]
     },
     "execution_count": 25,
     "metadata": {},
     "output_type": "execute_result"
    }
   ],
   "source": [
    "input_shape = (32, 32, 32)\n",
    "rates = [1, 3, 5, 12]\n",
    "filters = 16\n",
    "ConvBranches(\n",
    "    input_shape=input_shape, mode='.',\n",
    "    branch0=dict(layout='p cna u',\n",
    "                c={'filters': filters, 'kernel_size': 1,\n",
    "                    'stride': 1, 'dilation': 1},\n",
    "                p={'mode': 'avg', 'output_size': 1, 'adaptive': True},\n",
    "                u={'size': tuple(input_shape[1:])}),\n",
    "    branch1=dict(layout='cna', c={'filters': filters, 'kernel_size': 3,\n",
    "                                  'stride': 1, 'dilation': rates[0]}),\n",
    "    branch2=dict(layout='cna', c={'filters': filters, 'kernel_size': 3,\n",
    "                                  'stride': 1, 'dilation': rates[1]}),\n",
    "    branch3=dict(layout='cna', c={'filters': filters, 'kernel_size': 3,\n",
    "                                  'stride': 1, 'dilation': rates[2]}),\n",
    "    branch4=dict(layout='cna', c={'filters': filters, 'kernel_size': 3,\n",
    "                                  'stride': 1, 'dilation': rates[3]})\n",
    ")"
   ]
  },
  {
   "cell_type": "markdown",
   "metadata": {},
   "source": [
    "Another example would be **InceptionA** module:"
   ]
  },
  {
   "cell_type": "code",
   "execution_count": 26,
   "metadata": {},
   "outputs": [
    {
     "data": {
      "text/plain": [
       "ConvBranches(\n",
       "  (branches): ModuleDict(\n",
       "    (branch1x1): ConvBlock(\n",
       "      (Module_0): Conv(32, 32, kernel_size=(1, 1), stride=(1, 1), bias=False)\n",
       "      (Module_1): BatchNorm2d(32, eps=1e-05, momentum=0.1, affine=True, track_running_stats=True)\n",
       "      (Module_2): ReLU(inplace=True)\n",
       "    )\n",
       "    (branch3x3): ConvBlock(\n",
       "      (Module_0): Conv(32, 48, kernel_size=(1, 1), stride=(1, 1), bias=False)\n",
       "      (Module_1): BatchNorm2d(48, eps=1e-05, momentum=0.1, affine=True, track_running_stats=True)\n",
       "      (Module_2): ReLU(inplace=True)\n",
       "      (Module_3): Conv(48, 64, kernel_size=(3, 3), stride=(1, 1), padding=(1, 1, 1, 1), padding_mode=constant, bias=False)\n",
       "      (Module_4): BatchNorm2d(64, eps=1e-05, momentum=0.1, affine=True, track_running_stats=True)\n",
       "      (Module_5): ReLU(inplace=True)\n",
       "    )\n",
       "    (branch5x4): ConvBlock(\n",
       "      (Module_0): Conv(32, 64, kernel_size=(1, 1), stride=(1, 1), bias=False)\n",
       "      (Module_1): BatchNorm2d(64, eps=1e-05, momentum=0.1, affine=True, track_running_stats=True)\n",
       "      (Module_2): ReLU(inplace=True)\n",
       "      (Module_3): Conv(64, 96, kernel_size=(3, 3), stride=(1, 1), padding=(1, 1, 1, 1), padding_mode=constant, bias=False)\n",
       "      (Module_4): BatchNorm2d(96, eps=1e-05, momentum=0.1, affine=True, track_running_stats=True)\n",
       "      (Module_5): ReLU(inplace=True)\n",
       "      (Module_6): Conv(96, 96, kernel_size=(3, 3), stride=(1, 1), padding=(1, 1, 1, 1), padding_mode=constant, bias=False)\n",
       "      (Module_7): BatchNorm2d(96, eps=1e-05, momentum=0.1, affine=True, track_running_stats=True)\n",
       "      (Module_8): ReLU(inplace=True)\n",
       "    )\n",
       "    (branch_pool): ConvBlock(\n",
       "      (Module_0): AvgPool(kernel_size=(3, 3), stride=(1, 1), padding=(1, 1, 1, 1), mode='avg')\n",
       "      (Module_1): Conv(32, 32, kernel_size=(1, 1), stride=(1, 1), bias=False)\n",
       "      (Module_2): BatchNorm2d(32, eps=1e-05, momentum=0.1, affine=True, track_running_stats=True)\n",
       "      (Module_3): ReLU(inplace=True)\n",
       "    )\n",
       "  )\n",
       ")"
      ]
     },
     "execution_count": 26,
     "metadata": {},
     "output_type": "execute_result"
    }
   ],
   "source": [
    "ConvBranches(\n",
    "    input_shape=(32, 32, 32), mode='.',\n",
    "    branch1x1={'layout': 'cna', 'c': {'filters': 32, 'kernel_size': 1}},\n",
    "    branch_pool={'layout': 'p cna', 'c': {'filters': 32, 'kernel_size': 1},\n",
    "                 'p': {'kernel_size': 3, 'stride': 1, 'mode': 'avg'}},\n",
    "    branch3x3={'layout': 'cna cna', 'c': {'filters': [48, 64], 'kernel_size': [1, 3]}},\n",
    "    branch5x4={'layout': 'cna cna cna', 'c': {'filters': [64, 96, 96], 'kernel_size': [1, 3, 3]}}\n",
    ")"
   ]
  },
  {
   "cell_type": "markdown",
   "metadata": {},
   "source": [
    "Or **InceptionB** module:"
   ]
  },
  {
   "cell_type": "code",
   "execution_count": 27,
   "metadata": {},
   "outputs": [
    {
     "data": {
      "text/plain": [
       "ConvBranches(\n",
       "  (branches): ModuleDict(\n",
       "    (branch1x1): ConvBlock(\n",
       "      (Module_0): Conv(32, 192, kernel_size=(1, 1), stride=(1, 1), bias=False)\n",
       "      (Module_1): BatchNorm2d(192, eps=1e-05, momentum=0.1, affine=True, track_running_stats=True)\n",
       "      (Module_2): ReLU(inplace=True)\n",
       "    )\n",
       "    (branch7x7): ConvBlock(\n",
       "      (Module_0): Conv(32, 128, kernel_size=(1, 1), stride=(1, 1), bias=False)\n",
       "      (Module_1): BatchNorm2d(128, eps=1e-05, momentum=0.1, affine=True, track_running_stats=True)\n",
       "      (Module_2): ReLU(inplace=True)\n",
       "      (Module_3): Conv(128, 128, kernel_size=(1, 7), stride=(1, 1), padding=(0, 0, 3, 3), padding_mode=constant, bias=False)\n",
       "      (Module_4): BatchNorm2d(128, eps=1e-05, momentum=0.1, affine=True, track_running_stats=True)\n",
       "      (Module_5): ReLU(inplace=True)\n",
       "      (Module_6): Conv(128, 192, kernel_size=(7, 1), stride=(1, 1), padding=(3, 3, 0, 0), padding_mode=constant, bias=False)\n",
       "      (Module_7): BatchNorm2d(192, eps=1e-05, momentum=0.1, affine=True, track_running_stats=True)\n",
       "      (Module_8): ReLU(inplace=True)\n",
       "    )\n",
       "    (branch7x7dbl): ConvBlock(\n",
       "      (Module_0): Conv(32, 128, kernel_size=(1, 1), stride=(1, 1), bias=False)\n",
       "      (Module_1): BatchNorm2d(128, eps=1e-05, momentum=0.1, affine=True, track_running_stats=True)\n",
       "      (Module_2): ReLU(inplace=True)\n",
       "      (Module_3): Conv(128, 128, kernel_size=(1, 7), stride=(1, 1), padding=(0, 0, 3, 3), padding_mode=constant, bias=False)\n",
       "      (Module_4): BatchNorm2d(128, eps=1e-05, momentum=0.1, affine=True, track_running_stats=True)\n",
       "      (Module_5): ReLU(inplace=True)\n",
       "      (Module_6): Conv(128, 128, kernel_size=(7, 1), stride=(1, 1), padding=(3, 3, 0, 0), padding_mode=constant, bias=False)\n",
       "      (Module_7): BatchNorm2d(128, eps=1e-05, momentum=0.1, affine=True, track_running_stats=True)\n",
       "      (Module_8): ReLU(inplace=True)\n",
       "      (Module_9): Conv(128, 128, kernel_size=(1, 7), stride=(1, 1), padding=(0, 0, 3, 3), padding_mode=constant, bias=False)\n",
       "      (Module_10): BatchNorm2d(128, eps=1e-05, momentum=0.1, affine=True, track_running_stats=True)\n",
       "      (Module_11): ReLU(inplace=True)\n",
       "      (Module_12): Conv(128, 192, kernel_size=(7, 1), stride=(1, 1), padding=(3, 3, 0, 0), padding_mode=constant, bias=False)\n",
       "      (Module_13): BatchNorm2d(192, eps=1e-05, momentum=0.1, affine=True, track_running_stats=True)\n",
       "      (Module_14): ReLU(inplace=True)\n",
       "    )\n",
       "    (branch_pool): ConvBlock(\n",
       "      (Module_0): AvgPool(kernel_size=(3, 3), stride=(1, 1), padding=(1, 1, 1, 1), mode='avg')\n",
       "      (Module_1): Conv(32, 192, kernel_size=(1, 1), stride=(1, 1), bias=False)\n",
       "      (Module_2): BatchNorm2d(192, eps=1e-05, momentum=0.1, affine=True, track_running_stats=True)\n",
       "      (Module_3): ReLU(inplace=True)\n",
       "    )\n",
       "  )\n",
       ")"
      ]
     },
     "execution_count": 27,
     "metadata": {},
     "output_type": "execute_result"
    }
   ],
   "source": [
    "ConvBranches(\n",
    "    input_shape=(32, 32, 32), mode='.',\n",
    "    branch1x1={'layout': 'cna', 'c': {'filters': 192, 'kernel_size': 1}},\n",
    "    branch_pool={'layout': 'p cna', 'c': {'filters': 192, 'kernel_size': 1},\n",
    "                 'p': {'mode': 'avg', 'kernel_size': 3, 'stride': 1}},\n",
    "    branch7x7={'layout': 'cna cna cna', 'c': {'kernel_size': [(1, 1), (1, 7), (7, 1)],\n",
    "                                              'filters': [128, 128, 192]}},\n",
    "    branch7x7dbl={'layout': 'cna cna cna cna cna',\n",
    "                  'c': {'kernel_size': [(1, 1), (1, 7), (7, 1), (1, 7), (7, 1)],\n",
    "                        'filters': (128, 128, 128, 128, 192)}}\n",
    ")"
   ]
  },
  {
   "cell_type": "markdown",
   "metadata": {},
   "source": [
    "### Creating custom complex convolutional modules using ConvBlock and ConvBranches"
   ]
  },
  {
   "cell_type": "markdown",
   "metadata": {},
   "source": [
    "Let's take a look on implementation of **NASCell** from **NASNet** architecture. First of all, we would need to import **Module** class whis is similiar to **torch.nn.Module**, but can get track of input-output shapes and strides"
   ]
  },
  {
   "cell_type": "code",
   "execution_count": 28,
   "metadata": {},
   "outputs": [],
   "source": [
    "from convblock import Module"
   ]
  },
  {
   "cell_type": "code",
   "execution_count": 29,
   "metadata": {},
   "outputs": [],
   "source": [
    "class NASCell(Module):\n",
    "\n",
    "    def __init__(self, input_shape: 'ArrayLike[int]',\n",
    "                 stride: tuple = (1, 1)):\n",
    "        super().__init__(input_shape)\n",
    "        filters = self.input_shape[:, 0]\n",
    "        stride = [int(v) for v in stride]\n",
    "        self.conv_3x3_1 = ConvBlock(\n",
    "            input_shape=self.input_shape[0],\n",
    "            layout='cna',\n",
    "            c=dict(kernel_size=3,\n",
    "                   filters=filters[0],\n",
    "                   groups=filters[0],\n",
    "                   stride=stride[0])\n",
    "        )\n",
    "        self.conv_3x3_2 = ConvBlock(\n",
    "            input_shape=self.input_shape[1],\n",
    "            layout='cna',\n",
    "            c=dict(kernel_size=3,\n",
    "                   filters=filters[1],\n",
    "                   groups=filters[1],\n",
    "                   stride=stride[1])\n",
    "        )\n",
    "        self.pool_3x3 = ConvBlock(\n",
    "            input_shape=self.input_shape[0],\n",
    "            layout='p', p=dict(kernel_size=3,\n",
    "                               stride=stride[0])\n",
    "        )\n",
    "        self.block_1 = ConvBranches(\n",
    "            input_shape=self.input_shape[0],\n",
    "            mode='+',\n",
    "            branch_conv7={\n",
    "                'layout': 'cna',\n",
    "                'c': {\n",
    "                    'kernel_size': 7,\n",
    "                    'filters': filters[0],\n",
    "                    'groups': filters[0],\n",
    "                    'stride': stride[0]\n",
    "                }\n",
    "            },\n",
    "            branch_pool={\n",
    "                'layout': 'p',\n",
    "                'p': {\n",
    "                    'kernel_size': 3,\n",
    "                    'stride': stride[0]\n",
    "                }\n",
    "            }\n",
    "        )\n",
    "        self.block_2 = ConvBranches(\n",
    "            input_shape=self.input_shape[0],\n",
    "            mode='+',\n",
    "            branch_conv3={\n",
    "                'layout': 'cna',\n",
    "                'c': {\n",
    "                    'kernel_size': 7,\n",
    "                    'filters': filters[0],\n",
    "                    'groups': filters[0],\n",
    "                    'stride': stride[0]\n",
    "                }\n",
    "            },\n",
    "            branch_pool={\n",
    "                'layout': 'p',\n",
    "                'p': {\n",
    "                    'kernel_size': 3,\n",
    "                    'stride': stride\n",
    "                }\n",
    "            }\n",
    "        )\n",
    "        self.block_3 = ConvBranches(\n",
    "            input_shape=self.input_shape[1],\n",
    "            mode='+',\n",
    "            branch_conv3={\n",
    "                'layout': 'cna',\n",
    "                'c': {\n",
    "                    'kernel_size': 5,\n",
    "                    'filters': filters[1],\n",
    "                    'groups': filters[1],\n",
    "                    'stride': stride[1]\n",
    "                }\n",
    "            },\n",
    "            branch_conv5={\n",
    "                'layout': 'cna',\n",
    "                'c': {\n",
    "                    'kernel_size': 3,\n",
    "                    'filters': filters[1],\n",
    "                    'groups': filters[1],\n",
    "                    'stride': stride[1]\n",
    "                }\n",
    "            }\n",
    "        )\n",
    "\n",
    "    def forward(self, inputs):\n",
    "        x, y = inputs\n",
    "        x1 = self.block_1(x)\n",
    "        x2 = self.block_2(x)\n",
    "        x3 = self.conv_3x3_1(x2) + self.pool_3x3(x)\n",
    "        x4 = self.block_3(y)\n",
    "        x5 = self.conv_3x3_2(y) + x\n",
    "        return torch.cat([x1, x2, x3, x4, x5], dim=1)\n"
   ]
  },
  {
   "cell_type": "code",
   "execution_count": 30,
   "metadata": {},
   "outputs": [],
   "source": [
    "cell = NASCell([(32, 32, 32), (32, 32, 32)])"
   ]
  },
  {
   "cell_type": "code",
   "execution_count": 31,
   "metadata": {},
   "outputs": [
    {
     "data": {
      "text/plain": [
       "torch.Size([2, 160, 32, 32])"
      ]
     },
     "execution_count": 31,
     "metadata": {},
     "output_type": "execute_result"
    }
   ],
   "source": [
    "cell([torch.rand(2, 32, 32, 32), torch.rand(2, 32, 32, 32)]).shape"
   ]
  },
  {
   "cell_type": "code",
   "execution_count": null,
   "metadata": {},
   "outputs": [],
   "source": []
  }
 ],
 "metadata": {
  "kernelspec": {
   "display_name": "Python 3",
   "language": "python",
   "name": "python3"
  },
  "language_info": {
   "codemirror_mode": {
    "name": "ipython",
    "version": 3
   },
   "file_extension": ".py",
   "mimetype": "text/x-python",
   "name": "python",
   "nbconvert_exporter": "python",
   "pygments_lexer": "ipython3",
   "version": "3.6.5"
  }
 },
 "nbformat": 4,
 "nbformat_minor": 4
}
